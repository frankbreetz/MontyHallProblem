{
 "cells": [
  {
   "cell_type": "code",
   "execution_count": 26,
   "metadata": {},
   "outputs": [],
   "source": [
    "def duplicate_count(text):\n",
    "    letters={}\n",
    "    count=0;\n",
    "    for x in range(0,len(text)):\n",
    "       if(text[x].lower() in letters):\n",
    "           letters[text[x]]=letters[text[x]]+1;\n",
    "       else:           \n",
    "           letters[text[x]]=1;\n",
    "    for key,value in letters.items():\n",
    "        if value>1:\n",
    "            count=count+1;\n",
    "    return count    "
   ]
  },
  {
   "cell_type": "code",
   "execution_count": 30,
   "metadata": {},
   "outputs": [
    {
     "name": "stdout",
     "output_type": "stream",
     "text": [
      "0\n",
      "1\n",
      "1\n"
     ]
    }
   ],
   "source": [
    "print(duplicate_count(\"abcde\"))\n",
    "print(duplicate_count(\"abcdea\"))\n",
    "print(duplicate_count(\"indivisibility\"))"
   ]
  },
  {
   "cell_type": "code",
   "execution_count": null,
   "metadata": {
    "collapsed": true
   },
   "outputs": [],
   "source": []
  }
 ],
 "metadata": {
  "kernelspec": {
   "display_name": "Python 3",
   "language": "python",
   "name": "python3"
  },
  "language_info": {
   "codemirror_mode": {
    "name": "ipython",
    "version": 3
   },
   "file_extension": ".py",
   "mimetype": "text/x-python",
   "name": "python",
   "nbconvert_exporter": "python",
   "pygments_lexer": "ipython3",
   "version": "3.6.3"
  }
 },
 "nbformat": 4,
 "nbformat_minor": 2
}
